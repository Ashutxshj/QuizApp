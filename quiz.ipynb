{
 "cells": [
  {
   "cell_type": "code",
   "execution_count": 2,
   "metadata": {},
   "outputs": [
    {
     "name": "stdout",
     "output_type": "stream",
     "text": [
      "Correct!\n"
     ]
    }
   ],
   "source": [
    "answer =input(\"When was the first known use of the word 'quiz'? \\n\")\n",
    "if answer==\"1781\":\n",
    "    print(\"Correct!\")\n",
    "else:\n",
    "    print(f\"The answer is '1781',not{answer!r}\")"
   ]
  },
  {
   "cell_type": "code",
   "execution_count": 4,
   "metadata": {},
   "outputs": [
    {
     "name": "stdout",
     "output_type": "stream",
     "text": [
      "Correct!\n",
      "Correct!\n",
      "Correct!\n"
     ]
    }
   ],
   "source": [
    "Questions=[\n",
    "    (\"When was the first known use of the word 'quiz'\",\"1781\"),\n",
    "    (\"Which build-in function can get information from the user\",\"input\"),\n",
    "    (\"Which keyword do you use a loop over a given a list of elements\",\"for\")\n",
    "]\n",
    "for question,correct_answer in Questions:\n",
    "    answer=input(f\"{question}?\")\n",
    "    if answer==correct_answer:\n",
    "        print(\"Correct!\")\n",
    "    else:\n",
    "        print(f\"The answer is {correct_answer!r},not {answer!r}\")"
   ]
  },
  {
   "cell_type": "code",
   "execution_count": 7,
   "metadata": {},
   "outputs": [
    {
     "name": "stdout",
     "output_type": "stream",
     "text": [
      "\n",
      "Question 1:\n",
      "What does dict.get(key) return if key isn't found in dict?\n",
      "a False\n",
      "b Key\n",
      "c None\n",
      "d True\n",
      "The answer is 'None', not'False'\n",
      "\n",
      "Question 2:\n",
      "How do you iterate over both indices and elements in an iterable?\n",
      "a enumerate(iterable)\n",
      "b enumerate(iterable,start=1)\n",
      "c range(iterable)\n",
      "d range(iterable,start=1)\n",
      "The answer is 'enumerate(iterable)', notNone\n",
      "\n",
      "You got 0 correct out of 2 questions\n"
     ]
    }
   ],
   "source": [
    "from string import ascii_lowercase\n",
    "Questions={\n",
    "    \"What does dict.get(key) return if key isn't found in dict\":[\n",
    "        \"None\",\"Key\",\"True\",\"False\",\n",
    "    ],\n",
    "    \"How do you iterate over both indices and elements in an iterable\":[\n",
    "        \"enumerate(iterable)\",\n",
    "        \"enumerate(iterable,start=1)\",\n",
    "        \"range(iterable)\",\n",
    "        \"range(iterable,start=1)\",\n",
    "    ],\n",
    "}\n",
    "num_correct=0\n",
    "for num,(question,alternatives) in enumerate(Questions.items(),start=1):\n",
    "    print(f\"\\nQuestion {num}:\")\n",
    "    print(f\"{question}?\")\n",
    "    correct_answer=alternatives[0]\n",
    "    labeled_alternatives=dict(zip(ascii_lowercase,sorted(alternatives)))\n",
    "    for label,alternative in labeled_alternatives.items():\n",
    "        print(f\"{label} {alternative}\")\n",
    "    \n",
    "    answer_label=input(\"\\nChoice?\")\n",
    "    answer=labeled_alternatives.get(answer_label)\n",
    "    if answer==correct_answer:\n",
    "        num_correct+=1\n",
    "        print(\"Correct!\")\n",
    "    else:\n",
    "        print(f\"The answer is {correct_answer!r}, not{answer!r}\")\n",
    "print(f\"\\nYou got {num_correct} correct out of {num} questions\")"
   ]
  }
 ],
 "metadata": {
  "kernelspec": {
   "display_name": "Python 3",
   "language": "python",
   "name": "python3"
  },
  "language_info": {
   "codemirror_mode": {
    "name": "ipython",
    "version": 3
   },
   "file_extension": ".py",
   "mimetype": "text/x-python",
   "name": "python",
   "nbconvert_exporter": "python",
   "pygments_lexer": "ipython3",
   "version": "3.11.2"
  }
 },
 "nbformat": 4,
 "nbformat_minor": 2
}
